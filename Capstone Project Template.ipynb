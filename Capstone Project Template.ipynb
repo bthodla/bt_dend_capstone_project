{
 "cells": [
  {
   "cell_type": "markdown",
   "metadata": {
    "editable": true
   },
   "source": [
    "# Project Title\n",
    "### Data Engineering Capstone Project\n",
    "I am doing this project based on data that I have put together. I will describe the data and its sources in Step 1.\n",
    "\n",
    "#### Project Summary\n",
    "InvestSure is an investment company that manages the retirement accounts of employees of its customers. It gets a dump of many data elements in CSV format from transactional systems and has been using Excel to load this data for analysis. However, the data has now grown to a size where this approach is no longer viable. Therefore, InvestSure has hired me as a Data Engineer to analyze this data, cleanse it, build a conceptual model for analytical use of the data and load the data from Excel files into the analytical tables. InvestSure has also requested me to provide them with typical queries that they could run on this analytical model to gain insights into this data.\n",
    "\n",
    "The project follows the steps listed below:\n",
    "* Step 1: Scope the Project and Gather Data\n",
    "* Step 2: Explore and Assess the Data\n",
    "* Step 3: Define the Data Model\n",
    "* Step 4: Run ETL to Model the Data\n",
    "* Step 5: Complete Project Write Up"
   ]
  },
  {
   "cell_type": "code",
   "execution_count": 3,
   "metadata": {
    "editable": true
   },
   "outputs": [
    {
     "name": "stdout",
     "output_type": "stream",
     "text": [
      "src_data/\n"
     ]
    }
   ],
   "source": [
    "# Do all imports and installs here\n",
    "import pandas as pd\n",
    "import numpy as np\n",
    "import re\n",
    "from pyspark.sql import SparkSession\n",
    "import os\n",
    "import sys\n",
    "import glob\n",
    "import configparser\n",
    "from datetime import datetime, timedelta, date\n",
    "from dateutil import parser\n",
    "from pyspark.sql import types as t\n",
    "from pyspark.sql.functions import udf, col, monotonically_increasing_id\n",
    "from pyspark.sql.functions import year, month, dayofmonth, hour, weekofyear\n",
    "\n",
    "# To suppress numeric values from being returned in exponential format\n",
    "pd.options.display.float_format = '{:20,.2f}'.format\n",
    "\n",
    "# suppress warnings from final output\n",
    "import warnings\n",
    "warnings.simplefilter(\"ignore\")\n",
    "\n",
    "# Read project data configuration entries\n",
    "config = configparser.ConfigParser()\n",
    "config.read_file(open('capstone_project_data.cfg'))\n",
    "print(config['LOCAL']['INPUT_DATA_SRC'])"
   ]
  },
  {
   "cell_type": "markdown",
   "metadata": {
    "editable": true
   },
   "source": [
    "### Step 1: Scope the Project and Gather Data\n",
    "\n",
    "#### Scope \n",
    "The scope of this project is to analyze the data provided by transactional systems, cleanse the data if needed and load it into an analytical data model to facilitate querying the data.\n",
    "\n",
    "#### Describe and Gather Data \n",
    "In this section, I will describe the data including its source.\n",
    "\n",
    "- txn.csv (fact)\n",
    "    - Structure\n",
    "        - txn_id\n",
    "        - txn_date\n",
    "        - contact_id\n",
    "        - product_id\n",
    "        - sales\n",
    "        - redemptions\n",
    "    - Source: InvestSure's transactional system captured by its trading application\n",
    "    - Feed frequency: Daily\n",
    "\n",
    "- customer.csv (dimension)\n",
    "    - Structure\n",
    "        - customer_id\n",
    "        - customer_name\n",
    "        - sector\n",
    "    - Source: InvestSure's CRM system\n",
    "    - Feed Frequency: Daily\n",
    "\n",
    "- contact.csv (dimenstion)\n",
    "    - Structure\n",
    "        - contact_id\n",
    "        - first_name\n",
    "        - last_name\n",
    "        - city\n",
    "        - state_code\n",
    "        - zip\n",
    "        - country\n",
    "        - latitude\n",
    "        - longitude\n",
    "        - customer_id\n",
    "        - status\n",
    "        - opportunity\n",
    "    - Source: InvestSure's CRM system\n",
    "    - Feed Frequency: Daily\n",
    "\n",
    "- product.json (dimension)\n",
    "    - Structure\n",
    "        - product_id\n",
    "        - product_name\n",
    "        - tna\n",
    "        - ms_rating\n",
    "        - exp_ratio\n",
    "        - market_cap\n",
    "    - Source: Yahoo Finance\n",
    "    - Feed Frequency: Daily\n",
    "\n",
    "- sec_codes.csv (mapping table)\n",
    "    - Structure\n",
    "        - code\n",
    "        - description\n",
    "    - Source: Yahoo Finance provides description but InvestSure's systems use abbreviated codes\n",
    "    - Feed Frequency: On demand and when new customers are added\n",
    "\n",
    "- state.csv\n",
    "    - Structure\n",
    "        - state_code\n",
    "        - state\n",
    "        - region\n",
    "    - Source: US Census Board\n",
    "    - Feed Frequency: one time\n"
   ]
  },
  {
   "cell_type": "code",
   "execution_count": 9,
   "metadata": {
    "editable": true
   },
   "outputs": [
    {
     "data": {
      "text/html": [
       "<div>\n",
       "<style scoped>\n",
       "    .dataframe tbody tr th:only-of-type {\n",
       "        vertical-align: middle;\n",
       "    }\n",
       "\n",
       "    .dataframe tbody tr th {\n",
       "        vertical-align: top;\n",
       "    }\n",
       "\n",
       "    .dataframe thead th {\n",
       "        text-align: right;\n",
       "    }\n",
       "</style>\n",
       "<table border=\"1\" class=\"dataframe\">\n",
       "  <thead>\n",
       "    <tr style=\"text-align: right;\">\n",
       "      <th></th>\n",
       "      <th>customer_id</th>\n",
       "      <th>customer_name</th>\n",
       "      <th>sector</th>\n",
       "    </tr>\n",
       "  </thead>\n",
       "  <tbody>\n",
       "    <tr>\n",
       "      <th>0</th>\n",
       "      <td>450056063</td>\n",
       "      <td>B.W.E CUSTOM CONSTRUCTION LLC</td>\n",
       "      <td>HC</td>\n",
       "    </tr>\n",
       "    <tr>\n",
       "      <th>1</th>\n",
       "      <td>450056064</td>\n",
       "      <td>SERGEY NIZHEGORODTSEV PUBLISHING LLC</td>\n",
       "      <td>CS</td>\n",
       "    </tr>\n",
       "    <tr>\n",
       "      <th>2</th>\n",
       "      <td>450056066</td>\n",
       "      <td>SUNRISE ANDOVER LLC</td>\n",
       "      <td>RE</td>\n",
       "    </tr>\n",
       "    <tr>\n",
       "      <th>3</th>\n",
       "      <td>450056067</td>\n",
       "      <td>474 CENTRAL BOULEVARD LLC</td>\n",
       "      <td>FS</td>\n",
       "    </tr>\n",
       "    <tr>\n",
       "      <th>4</th>\n",
       "      <td>450056068</td>\n",
       "      <td>ELITE FINISHES LLC</td>\n",
       "      <td>TECH</td>\n",
       "    </tr>\n",
       "  </tbody>\n",
       "</table>\n",
       "</div>"
      ],
      "text/plain": [
       "   customer_id                         customer_name sector\n",
       "0    450056063         B.W.E CUSTOM CONSTRUCTION LLC     HC\n",
       "1    450056064  SERGEY NIZHEGORODTSEV PUBLISHING LLC     CS\n",
       "2    450056066                   SUNRISE ANDOVER LLC     RE\n",
       "3    450056067             474 CENTRAL BOULEVARD LLC     FS\n",
       "4    450056068                    ELITE FINISHES LLC   TECH"
      ]
     },
     "execution_count": 9,
     "metadata": {},
     "output_type": "execute_result"
    }
   ],
   "source": [
    "# Read CUSTOMER data\n",
    "df_customer = pd.read_csv(config['LOCAL']['INPUT_DATA_CUSTOMER'], encoding = \"ISO-8859-1\")\n",
    "\n",
    "# Display sample rows from CUSTOMER data\n",
    "df_customer.head()"
   ]
  },
  {
   "cell_type": "code",
   "execution_count": 8,
   "metadata": {
    "editable": true
   },
   "outputs": [
    {
     "data": {
      "text/html": [
       "<div>\n",
       "<style scoped>\n",
       "    .dataframe tbody tr th:only-of-type {\n",
       "        vertical-align: middle;\n",
       "    }\n",
       "\n",
       "    .dataframe tbody tr th {\n",
       "        vertical-align: top;\n",
       "    }\n",
       "\n",
       "    .dataframe thead th {\n",
       "        text-align: right;\n",
       "    }\n",
       "</style>\n",
       "<table border=\"1\" class=\"dataframe\">\n",
       "  <thead>\n",
       "    <tr style=\"text-align: right;\">\n",
       "      <th></th>\n",
       "      <th>contact_id</th>\n",
       "      <th>first_name</th>\n",
       "      <th>last_name</th>\n",
       "      <th>city</th>\n",
       "      <th>state_code</th>\n",
       "      <th>zip</th>\n",
       "      <th>country</th>\n",
       "      <th>latitude</th>\n",
       "      <th>longitude</th>\n",
       "      <th>customer_id</th>\n",
       "      <th>status</th>\n",
       "      <th>opportunity</th>\n",
       "    </tr>\n",
       "  </thead>\n",
       "  <tbody>\n",
       "    <tr>\n",
       "      <th>0</th>\n",
       "      <td>100000339</td>\n",
       "      <td>Lyndy</td>\n",
       "      <td>Chachas</td>\n",
       "      <td>Omaha</td>\n",
       "      <td>NE</td>\n",
       "      <td>68130</td>\n",
       "      <td>USA</td>\n",
       "      <td>41.23</td>\n",
       "      <td>-96.18</td>\n",
       "      <td>450058148</td>\n",
       "      <td>Active</td>\n",
       "      <td>50000</td>\n",
       "    </tr>\n",
       "    <tr>\n",
       "      <th>1</th>\n",
       "      <td>100001423</td>\n",
       "      <td>Watts</td>\n",
       "      <td>Eifenstadt</td>\n",
       "      <td>Weston</td>\n",
       "      <td>FL</td>\n",
       "      <td>33326</td>\n",
       "      <td>USA</td>\n",
       "      <td>26.10</td>\n",
       "      <td>-80.36</td>\n",
       "      <td>450059017</td>\n",
       "      <td>Active</td>\n",
       "      <td>50000</td>\n",
       "    </tr>\n",
       "    <tr>\n",
       "      <th>2</th>\n",
       "      <td>100001837</td>\n",
       "      <td>Jingfeng</td>\n",
       "      <td>Lopina</td>\n",
       "      <td>Hunt Valley</td>\n",
       "      <td>MD</td>\n",
       "      <td>21030</td>\n",
       "      <td>USA</td>\n",
       "      <td>39.50</td>\n",
       "      <td>-76.67</td>\n",
       "      <td>450059076</td>\n",
       "      <td>Active</td>\n",
       "      <td>125000</td>\n",
       "    </tr>\n",
       "    <tr>\n",
       "      <th>3</th>\n",
       "      <td>100002544</td>\n",
       "      <td>Gaynell</td>\n",
       "      <td>Vivrett</td>\n",
       "      <td>Beloit</td>\n",
       "      <td>WI</td>\n",
       "      <td>53511</td>\n",
       "      <td>USA</td>\n",
       "      <td>42.50</td>\n",
       "      <td>-89.04</td>\n",
       "      <td>450057762</td>\n",
       "      <td>Active</td>\n",
       "      <td>16000</td>\n",
       "    </tr>\n",
       "    <tr>\n",
       "      <th>4</th>\n",
       "      <td>100002551</td>\n",
       "      <td>Peregrino</td>\n",
       "      <td>Valles</td>\n",
       "      <td>New York</td>\n",
       "      <td>NY</td>\n",
       "      <td>10036</td>\n",
       "      <td>USA</td>\n",
       "      <td>40.76</td>\n",
       "      <td>-73.98</td>\n",
       "      <td>450055995</td>\n",
       "      <td>Active</td>\n",
       "      <td>150000</td>\n",
       "    </tr>\n",
       "  </tbody>\n",
       "</table>\n",
       "</div>"
      ],
      "text/plain": [
       "   contact_id first_name   last_name         city state_code    zip country  \\\n",
       "0   100000339      Lyndy     Chachas        Omaha         NE  68130     USA   \n",
       "1   100001423      Watts  Eifenstadt       Weston         FL  33326     USA   \n",
       "2   100001837   Jingfeng      Lopina  Hunt Valley         MD  21030     USA   \n",
       "3   100002544    Gaynell     Vivrett       Beloit         WI  53511     USA   \n",
       "4   100002551  Peregrino      Valles     New York         NY  10036     USA   \n",
       "\n",
       "              latitude            longitude  customer_id  status  opportunity  \n",
       "0                41.23               -96.18    450058148  Active        50000  \n",
       "1                26.10               -80.36    450059017  Active        50000  \n",
       "2                39.50               -76.67    450059076  Active       125000  \n",
       "3                42.50               -89.04    450057762  Active        16000  \n",
       "4                40.76               -73.98    450055995  Active       150000  "
      ]
     },
     "execution_count": 8,
     "metadata": {},
     "output_type": "execute_result"
    }
   ],
   "source": [
    "# Read CONTACT data\n",
    "df_contact = pd.read_csv(config['LOCAL']['INPUT_DATA_CONTACT'], encoding = \"ISO-8859-1\")\n",
    "\n",
    "# Display sample rows from CONTACT data\n",
    "df_contact.head()"
   ]
  },
  {
   "cell_type": "code",
   "execution_count": 10,
   "metadata": {
    "editable": true
   },
   "outputs": [
    {
     "data": {
      "text/html": [
       "<div>\n",
       "<style scoped>\n",
       "    .dataframe tbody tr th:only-of-type {\n",
       "        vertical-align: middle;\n",
       "    }\n",
       "\n",
       "    .dataframe tbody tr th {\n",
       "        vertical-align: top;\n",
       "    }\n",
       "\n",
       "    .dataframe thead th {\n",
       "        text-align: right;\n",
       "    }\n",
       "</style>\n",
       "<table border=\"1\" class=\"dataframe\">\n",
       "  <thead>\n",
       "    <tr style=\"text-align: right;\">\n",
       "      <th></th>\n",
       "      <th>exp_ratio</th>\n",
       "      <th>market_cap</th>\n",
       "      <th>ms_rating</th>\n",
       "      <th>product_id</th>\n",
       "      <th>product_name</th>\n",
       "      <th>tna</th>\n",
       "    </tr>\n",
       "  </thead>\n",
       "  <tbody>\n",
       "    <tr>\n",
       "      <th>0</th>\n",
       "      <td>0.05</td>\n",
       "      <td>Giant</td>\n",
       "      <td>5</td>\n",
       "      <td>VFIAX</td>\n",
       "      <td>Vanguard 500 Index Admiral</td>\n",
       "      <td>163456368456</td>\n",
       "    </tr>\n",
       "    <tr>\n",
       "      <th>1</th>\n",
       "      <td>0.05</td>\n",
       "      <td>Giant</td>\n",
       "      <td>4</td>\n",
       "      <td>VTSAX</td>\n",
       "      <td>Vanguard Total Stock Mkt Idx Adm</td>\n",
       "      <td>136131758268</td>\n",
       "    </tr>\n",
       "    <tr>\n",
       "      <th>2</th>\n",
       "      <td>0.04</td>\n",
       "      <td>Giant</td>\n",
       "      <td>5</td>\n",
       "      <td>VINIX</td>\n",
       "      <td>Vanguard Institutional Index I</td>\n",
       "      <td>110407917518</td>\n",
       "    </tr>\n",
       "    <tr>\n",
       "      <th>3</th>\n",
       "      <td>0.16</td>\n",
       "      <td>Giant</td>\n",
       "      <td>4</td>\n",
       "      <td>VTSMX</td>\n",
       "      <td>Vanguard Total Stock Mkt Idx Inv</td>\n",
       "      <td>98869371846</td>\n",
       "    </tr>\n",
       "    <tr>\n",
       "      <th>4</th>\n",
       "      <td>0.02</td>\n",
       "      <td>Giant</td>\n",
       "      <td>5</td>\n",
       "      <td>VIIIX</td>\n",
       "      <td>Vanguard Institutional Index Instl Pl</td>\n",
       "      <td>93192353649</td>\n",
       "    </tr>\n",
       "  </tbody>\n",
       "</table>\n",
       "</div>"
      ],
      "text/plain": [
       "             exp_ratio market_cap  ms_rating product_id  \\\n",
       "0                 0.05      Giant          5      VFIAX   \n",
       "1                 0.05      Giant          4      VTSAX   \n",
       "2                 0.04      Giant          5      VINIX   \n",
       "3                 0.16      Giant          4      VTSMX   \n",
       "4                 0.02      Giant          5      VIIIX   \n",
       "\n",
       "                            product_name           tna  \n",
       "0             Vanguard 500 Index Admiral  163456368456  \n",
       "1       Vanguard Total Stock Mkt Idx Adm  136131758268  \n",
       "2         Vanguard Institutional Index I  110407917518  \n",
       "3       Vanguard Total Stock Mkt Idx Inv   98869371846  \n",
       "4  Vanguard Institutional Index Instl Pl   93192353649  "
      ]
     },
     "execution_count": 10,
     "metadata": {},
     "output_type": "execute_result"
    }
   ],
   "source": [
    "# Read PRODUCT data (note that this data is in JSON format)\n",
    "df_product = pd.read_json(config['LOCAL']['INPUT_DATA_PRODUCT'])\n",
    "\n",
    "# Display sample rows from PRODUCT data\n",
    "df_product.head()"
   ]
  },
  {
   "cell_type": "code",
   "execution_count": 11,
   "metadata": {
    "editable": true
   },
   "outputs": [
    {
     "data": {
      "text/html": [
       "<div>\n",
       "<style scoped>\n",
       "    .dataframe tbody tr th:only-of-type {\n",
       "        vertical-align: middle;\n",
       "    }\n",
       "\n",
       "    .dataframe tbody tr th {\n",
       "        vertical-align: top;\n",
       "    }\n",
       "\n",
       "    .dataframe thead th {\n",
       "        text-align: right;\n",
       "    }\n",
       "</style>\n",
       "<table border=\"1\" class=\"dataframe\">\n",
       "  <thead>\n",
       "    <tr style=\"text-align: right;\">\n",
       "      <th></th>\n",
       "      <th>code</th>\n",
       "      <th>description</th>\n",
       "    </tr>\n",
       "  </thead>\n",
       "  <tbody>\n",
       "    <tr>\n",
       "      <th>0</th>\n",
       "      <td>FS</td>\n",
       "      <td>Financial Services</td>\n",
       "    </tr>\n",
       "    <tr>\n",
       "      <th>1</th>\n",
       "      <td>RE</td>\n",
       "      <td>Real Estate</td>\n",
       "    </tr>\n",
       "    <tr>\n",
       "      <th>2</th>\n",
       "      <td>HC</td>\n",
       "      <td>Healthcare</td>\n",
       "    </tr>\n",
       "    <tr>\n",
       "      <th>3</th>\n",
       "      <td>UT</td>\n",
       "      <td>Utilities</td>\n",
       "    </tr>\n",
       "    <tr>\n",
       "      <th>4</th>\n",
       "      <td>CS</td>\n",
       "      <td>Communication Services</td>\n",
       "    </tr>\n",
       "  </tbody>\n",
       "</table>\n",
       "</div>"
      ],
      "text/plain": [
       "  code             description\n",
       "0   FS      Financial Services\n",
       "1   RE             Real Estate\n",
       "2   HC              Healthcare\n",
       "3   UT               Utilities\n",
       "4   CS  Communication Services"
      ]
     },
     "execution_count": 11,
     "metadata": {},
     "output_type": "execute_result"
    }
   ],
   "source": [
    "# Read SECTOR CODES data\n",
    "df_sec_codes = pd.read_csv(config['LOCAL']['INPUT_DATA_SECTOR'], encoding = \"ISO-8859-1\")\n",
    "\n",
    "# Display sample rows from CONTACT data\n",
    "df_sec_codes.head()"
   ]
  },
  {
   "cell_type": "code",
   "execution_count": 12,
   "metadata": {
    "editable": true
   },
   "outputs": [
    {
     "data": {
      "text/html": [
       "<div>\n",
       "<style scoped>\n",
       "    .dataframe tbody tr th:only-of-type {\n",
       "        vertical-align: middle;\n",
       "    }\n",
       "\n",
       "    .dataframe tbody tr th {\n",
       "        vertical-align: top;\n",
       "    }\n",
       "\n",
       "    .dataframe thead th {\n",
       "        text-align: right;\n",
       "    }\n",
       "</style>\n",
       "<table border=\"1\" class=\"dataframe\">\n",
       "  <thead>\n",
       "    <tr style=\"text-align: right;\">\n",
       "      <th></th>\n",
       "      <th>state_code</th>\n",
       "      <th>state</th>\n",
       "      <th>region</th>\n",
       "    </tr>\n",
       "  </thead>\n",
       "  <tbody>\n",
       "    <tr>\n",
       "      <th>0</th>\n",
       "      <td>AL</td>\n",
       "      <td>Alabama</td>\n",
       "      <td>Southern</td>\n",
       "    </tr>\n",
       "    <tr>\n",
       "      <th>1</th>\n",
       "      <td>AK</td>\n",
       "      <td>Alaska</td>\n",
       "      <td>Pacific</td>\n",
       "    </tr>\n",
       "    <tr>\n",
       "      <th>2</th>\n",
       "      <td>AZ</td>\n",
       "      <td>Arizona</td>\n",
       "      <td>Pacific</td>\n",
       "    </tr>\n",
       "    <tr>\n",
       "      <th>3</th>\n",
       "      <td>AR</td>\n",
       "      <td>Arkansas</td>\n",
       "      <td>Southern</td>\n",
       "    </tr>\n",
       "    <tr>\n",
       "      <th>4</th>\n",
       "      <td>CA</td>\n",
       "      <td>California</td>\n",
       "      <td>Pacific</td>\n",
       "    </tr>\n",
       "  </tbody>\n",
       "</table>\n",
       "</div>"
      ],
      "text/plain": [
       "  state_code       state    region\n",
       "0         AL     Alabama  Southern\n",
       "1         AK      Alaska   Pacific\n",
       "2         AZ     Arizona   Pacific\n",
       "3         AR    Arkansas  Southern\n",
       "4         CA  California   Pacific"
      ]
     },
     "execution_count": 12,
     "metadata": {},
     "output_type": "execute_result"
    }
   ],
   "source": [
    "# Read STATE data\n",
    "df_state = pd.read_csv(config['LOCAL']['INPUT_DATA_STATE'], encoding = \"ISO-8859-1\")\n",
    "\n",
    "# Display sample rows from STATE data\n",
    "df_state.head()"
   ]
  },
  {
   "cell_type": "code",
   "execution_count": 13,
   "metadata": {
    "editable": true
   },
   "outputs": [
    {
     "data": {
      "text/html": [
       "<div>\n",
       "<style scoped>\n",
       "    .dataframe tbody tr th:only-of-type {\n",
       "        vertical-align: middle;\n",
       "    }\n",
       "\n",
       "    .dataframe tbody tr th {\n",
       "        vertical-align: top;\n",
       "    }\n",
       "\n",
       "    .dataframe thead th {\n",
       "        text-align: right;\n",
       "    }\n",
       "</style>\n",
       "<table border=\"1\" class=\"dataframe\">\n",
       "  <thead>\n",
       "    <tr style=\"text-align: right;\">\n",
       "      <th></th>\n",
       "      <th>txn_id</th>\n",
       "      <th>txn_date</th>\n",
       "      <th>contact_id</th>\n",
       "      <th>product_id</th>\n",
       "      <th>sales</th>\n",
       "      <th>redemptions</th>\n",
       "    </tr>\n",
       "  </thead>\n",
       "  <tbody>\n",
       "    <tr>\n",
       "      <th>0</th>\n",
       "      <td>422909780</td>\n",
       "      <td>1/2/15</td>\n",
       "      <td>992808564</td>\n",
       "      <td>VIVAX</td>\n",
       "      <td>46,892.19</td>\n",
       "      <td>0.00</td>\n",
       "    </tr>\n",
       "    <tr>\n",
       "      <th>1</th>\n",
       "      <td>422909781</td>\n",
       "      <td>1/2/15</td>\n",
       "      <td>261785827</td>\n",
       "      <td>SOPAX</td>\n",
       "      <td>0.00</td>\n",
       "      <td>-33,424.78</td>\n",
       "    </tr>\n",
       "    <tr>\n",
       "      <th>2</th>\n",
       "      <td>422909782</td>\n",
       "      <td>1/2/15</td>\n",
       "      <td>389127962</td>\n",
       "      <td>BAICX</td>\n",
       "      <td>14,230.85</td>\n",
       "      <td>0.00</td>\n",
       "    </tr>\n",
       "    <tr>\n",
       "      <th>3</th>\n",
       "      <td>422909783</td>\n",
       "      <td>1/2/15</td>\n",
       "      <td>101692476</td>\n",
       "      <td>SGROX</td>\n",
       "      <td>94,046.93</td>\n",
       "      <td>0.00</td>\n",
       "    </tr>\n",
       "    <tr>\n",
       "      <th>4</th>\n",
       "      <td>422909784</td>\n",
       "      <td>1/2/15</td>\n",
       "      <td>327754553</td>\n",
       "      <td>FXSIX</td>\n",
       "      <td>22,038.86</td>\n",
       "      <td>0.00</td>\n",
       "    </tr>\n",
       "  </tbody>\n",
       "</table>\n",
       "</div>"
      ],
      "text/plain": [
       "      txn_id txn_date  contact_id product_id                sales  \\\n",
       "0  422909780   1/2/15   992808564      VIVAX            46,892.19   \n",
       "1  422909781   1/2/15   261785827      SOPAX                 0.00   \n",
       "2  422909782   1/2/15   389127962      BAICX            14,230.85   \n",
       "3  422909783   1/2/15   101692476      SGROX            94,046.93   \n",
       "4  422909784   1/2/15   327754553      FXSIX            22,038.86   \n",
       "\n",
       "           redemptions  \n",
       "0                 0.00  \n",
       "1           -33,424.78  \n",
       "2                 0.00  \n",
       "3                 0.00  \n",
       "4                 0.00  "
      ]
     },
     "execution_count": 13,
     "metadata": {},
     "output_type": "execute_result"
    }
   ],
   "source": [
    "# Read TRANSACTION data\n",
    "df_txn = pd.read_csv(config['LOCAL']['INPUT_DATA_TXN'], encoding = \"ISO-8859-1\")\n",
    "\n",
    "# Display sample rows from TRANSACTION data\n",
    "df_txn.head()"
   ]
  },
  {
   "cell_type": "code",
   "execution_count": 8,
   "metadata": {
    "editable": true
   },
   "outputs": [],
   "source": [
    "\t\n",
    "from pyspark.sql import SparkSession\n",
    "spark = SparkSession.builder.\\\n",
    "config(\"spark.jars.packages\",\"saurfang:spark-sas7bdat:2.0.0-s_2.11\")\\\n",
    ".enableHiveSupport().getOrCreate()\n",
    "df_spark =spark.read.format('com.github.saurfang.sas.spark').load('../../data/18-83510-I94-Data-2016/i94_apr16_sub.sas7bdat')\n"
   ]
  },
  {
   "cell_type": "code",
   "execution_count": 11,
   "metadata": {
    "editable": true
   },
   "outputs": [],
   "source": [
    "#write to parquet\n",
    "df_spark.write.parquet(\"sas_data\")\n",
    "df_spark=spark.read.parquet(\"sas_data\")"
   ]
  },
  {
   "cell_type": "markdown",
   "metadata": {
    "editable": true
   },
   "source": [
    "### Step 2: Explore and Assess the Data\n",
    "#### Explore the Data \n",
    "Identify data quality issues, like missing values, duplicate data, etc.\n",
    "\n",
    "#### Cleaning Steps\n",
    "Document steps necessary to clean the data"
   ]
  },
  {
   "cell_type": "code",
   "execution_count": null,
   "metadata": {
    "editable": true
   },
   "outputs": [],
   "source": [
    "# Performing cleaning tasks here\n",
    "\n",
    "\n",
    "\n"
   ]
  },
  {
   "cell_type": "markdown",
   "metadata": {
    "editable": true
   },
   "source": [
    "### Step 3: Define the Data Model\n",
    "#### 3.1 Conceptual Data Model\n",
    "Map out the conceptual data model and explain why you chose that model\n",
    "\n",
    "#### 3.2 Mapping Out Data Pipelines\n",
    "List the steps necessary to pipeline the data into the chosen data model"
   ]
  },
  {
   "cell_type": "markdown",
   "metadata": {
    "editable": true
   },
   "source": [
    "### Step 4: Run Pipelines to Model the Data \n",
    "#### 4.1 Create the data model\n",
    "Build the data pipelines to create the data model."
   ]
  },
  {
   "cell_type": "code",
   "execution_count": null,
   "metadata": {
    "editable": true
   },
   "outputs": [],
   "source": [
    "# Write code here"
   ]
  },
  {
   "cell_type": "markdown",
   "metadata": {
    "editable": true
   },
   "source": [
    "#### 4.2 Data Quality Checks\n",
    "Explain the data quality checks you'll perform to ensure the pipeline ran as expected. These could include:\n",
    " * Integrity constraints on the relational database (e.g., unique key, data type, etc.)\n",
    " * Unit tests for the scripts to ensure they are doing the right thing\n",
    " * Source/Count checks to ensure completeness\n",
    " \n",
    "Run Quality Checks"
   ]
  },
  {
   "cell_type": "code",
   "execution_count": null,
   "metadata": {
    "editable": true
   },
   "outputs": [],
   "source": [
    "# Perform quality checks here"
   ]
  },
  {
   "cell_type": "markdown",
   "metadata": {
    "editable": true
   },
   "source": [
    "#### 4.3 Data dictionary \n",
    "Create a data dictionary for your data model. For each field, provide a brief description of what the data is and where it came from. You can include the data dictionary in the notebook or in a separate file."
   ]
  },
  {
   "cell_type": "markdown",
   "metadata": {
    "editable": true
   },
   "source": [
    "#### Step 5: Complete Project Write Up\n",
    "* Clearly state the rationale for the choice of tools and technologies for the project.\n",
    "* Propose how often the data should be updated and why.\n",
    "* Write a description of how you would approach the problem differently under the following scenarios:\n",
    " * The data was increased by 100x.\n",
    " * The data populates a dashboard that must be updated on a daily basis by 7am every day.\n",
    " * The database needed to be accessed by 100+ people."
   ]
  },
  {
   "cell_type": "code",
   "execution_count": null,
   "metadata": {
    "editable": true
   },
   "outputs": [],
   "source": []
  },
  {
   "cell_type": "code",
   "execution_count": null,
   "metadata": {
    "editable": true
   },
   "outputs": [],
   "source": []
  },
  {
   "cell_type": "code",
   "execution_count": null,
   "metadata": {
    "editable": true
   },
   "outputs": [],
   "source": []
  },
  {
   "cell_type": "code",
   "execution_count": null,
   "metadata": {
    "editable": true
   },
   "outputs": [],
   "source": []
  },
  {
   "cell_type": "code",
   "execution_count": null,
   "metadata": {
    "editable": true
   },
   "outputs": [],
   "source": []
  },
  {
   "cell_type": "code",
   "execution_count": null,
   "metadata": {
    "editable": true
   },
   "outputs": [],
   "source": []
  }
 ],
 "metadata": {
  "kernelspec": {
   "display_name": "Python 3",
   "language": "python",
   "name": "python3"
  },
  "language_info": {
   "codemirror_mode": {
    "name": "ipython",
    "version": 3
   },
   "file_extension": ".py",
   "mimetype": "text/x-python",
   "name": "python",
   "nbconvert_exporter": "python",
   "pygments_lexer": "ipython3",
   "version": "3.6.3"
  }
 },
 "nbformat": 4,
 "nbformat_minor": 4
}
